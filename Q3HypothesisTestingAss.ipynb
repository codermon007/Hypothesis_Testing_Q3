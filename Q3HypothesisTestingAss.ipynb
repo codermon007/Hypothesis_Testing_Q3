{
 "cells":[
  {
   "cell_type":"markdown",
   "source":[
    "Q3Sales of products in four different regions is tabulated for males and females. Find if male-female buyer rations are similar across regions."
   ],
   "attachments":{
    
   },
   "metadata":{
    "datalore":{
     "node_id":"SmC3G12rVfk8ck5q6RLvot",
     "type":"MD",
     "hide_input_from_viewers":true,
     "hide_output_from_viewers":true
    }
   }
  },
  {
   "cell_type":"markdown",
   "source":[
    "Solution - Here Ho = All Proportions are equal\n",
    "                \n",
    "                Ha= Not all Proportions are equal\n",
    "\n",
    "as Catagorical data is given, we will use Ci-Square test\n",
    "\n",
    "            "
   ],
   "attachments":{
    
   },
   "metadata":{
    "datalore":{
     "node_id":"cMVccSrYMFL0lHZJ7ibysU",
     "type":"MD",
     "hide_input_from_viewers":true,
     "hide_output_from_viewers":true
    }
   }
  },
  {
   "cell_type":"code",
   "source":[
    "from scipy.stats import chi2_contingency\n",
    "import pandas as pd\n",
    "import numpy as np"
   ],
   "execution_count":3,
   "outputs":[
    
   ],
   "metadata":{
    "datalore":{
     "node_id":"e9JBwqsNLoPKqrxCy00HTv",
     "type":"CODE",
     "hide_input_from_viewers":true,
     "hide_output_from_viewers":true
    }
   }
  },
  {
   "cell_type":"code",
   "source":[
    "df = pd.read_csv(\"\/data\/notebook_files\/BuyerRatio.csv\")\n",
    "df"
   ],
   "execution_count":4,
   "outputs":[
    {
     "data":{
      "text\/html":[
       "<div>\n",
       "<style scoped>\n",
       "    .dataframe tbody tr th:only-of-type {\n",
       "        vertical-align: middle;\n",
       "    }\n",
       "\n",
       "    .dataframe tbody tr th {\n",
       "        vertical-align: top;\n",
       "    }\n",
       "\n",
       "    .dataframe thead th {\n",
       "        text-align: right;\n",
       "    }\n",
       "<\/style>\n",
       "<table border=\"1\" class=\"dataframe\">\n",
       "  <thead>\n",
       "    <tr style=\"text-align: right;\">\n",
       "      <th><\/th>\n",
       "      <th>Observed Values<\/th>\n",
       "      <th>East<\/th>\n",
       "      <th>West<\/th>\n",
       "      <th>North<\/th>\n",
       "      <th>South<\/th>\n",
       "    <\/tr>\n",
       "  <\/thead>\n",
       "  <tbody>\n",
       "    <tr>\n",
       "      <th>0<\/th>\n",
       "      <td>Males<\/td>\n",
       "      <td>50<\/td>\n",
       "      <td>142<\/td>\n",
       "      <td>131<\/td>\n",
       "      <td>70<\/td>\n",
       "    <\/tr>\n",
       "    <tr>\n",
       "      <th>1<\/th>\n",
       "      <td>Females<\/td>\n",
       "      <td>435<\/td>\n",
       "      <td>1523<\/td>\n",
       "      <td>1356<\/td>\n",
       "      <td>750<\/td>\n",
       "    <\/tr>\n",
       "  <\/tbody>\n",
       "<\/table>\n",
       "<\/div>"
      ]
     },
     "metadata":{
      
     },
     "output_type":"display_data"
    }
   ],
   "metadata":{
    "datalore":{
     "node_id":"j975V3QSGQnuXN6wtICtNd",
     "type":"CODE",
     "hide_input_from_viewers":true,
     "hide_output_from_viewers":true
    }
   }
  },
  {
   "cell_type":"code",
   "source":[
    "data = df.iloc[:,1:5]\n",
    "data.values"
   ],
   "execution_count":8,
   "outputs":[
    {
     "data":{
      "text\/html":[
       "<pre>array([[  50,  142,  131,   70],\n",
       "       [ 435, 1523, 1356,  750]])<\/pre>"
      ]
     },
     "metadata":{
      
     },
     "output_type":"display_data"
    }
   ],
   "metadata":{
    "datalore":{
     "node_id":"8RJOjVibifOtcdAfPc5cWd",
     "type":"CODE",
     "hide_input_from_viewers":true,
     "hide_output_from_viewers":true
    }
   }
  },
  {
   "cell_type":"code",
   "source":[
    "chi2_contingency(data)"
   ],
   "execution_count":9,
   "outputs":[
    {
     "data":{
      "text\/plain":[
       "Chi2ContingencyResult(statistic=1.595945538661058, pvalue=0.6603094907091882, dof=3, expected_freq=array([[  42.76531299,  146.81287862,  131.11756787,   72.30424052],\n",
       "       [ 442.23468701, 1518.18712138, 1355.88243213,  747.69575948]]))"
      ]
     },
     "metadata":{
      
     },
     "output_type":"display_data"
    }
   ],
   "metadata":{
    "datalore":{
     "node_id":"bpJlL8jNE13nsRUkMdIM8M",
     "type":"CODE",
     "hide_input_from_viewers":true,
     "hide_output_from_viewers":true
    }
   }
  },
  {
   "cell_type":"markdown",
   "source":[
    "as as reult, p-value > 0.005\n",
    "Hence, we failed to reject null hypothesis"
   ],
   "attachments":{
    
   },
   "metadata":{
    "datalore":{
     "node_id":"CLLLmhzbBbirnQR61bdtlF",
     "type":"MD",
     "hide_input_from_viewers":true,
     "hide_output_from_viewers":true
    }
   }
  }
 ],
 "metadata":{
  "kernelspec":{
   "display_name":"Python",
   "language":"python",
   "name":"python"
  },
  "datalore":{
   "computation_mode":"JUPYTER",
   "package_manager":"pip",
   "base_environment":"default",
   "packages":[
    
   ],
   "report_row_ids":[
    
   ],
   "version":3
  }
 },
 "nbformat":4,
 "nbformat_minor":4
}